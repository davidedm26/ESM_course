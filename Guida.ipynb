{
 "cells": [
  {
   "cell_type": "markdown",
   "id": "d8c95f44",
   "metadata": {},
   "source": [
    "#Funzioni di lettura/visualizzazione/salvataggio"
   ]
  },
  {
   "cell_type": "code",
   "execution_count": null,
   "id": "673be66f",
   "metadata": {},
   "outputs": [],
   "source": [
    "#Leggere i dati da un'immagine formato jpeg, tif, png\n",
    "import skimage.io as io\n",
    "x = io.imread('./Immagini/volto1.png')"
   ]
  },
  {
   "cell_type": "code",
   "execution_count": null,
   "id": "b779062d",
   "metadata": {},
   "outputs": [],
   "source": [
    "#Leggere i dati da un'file .y\n",
    "import numpy as np\n",
    "x = np.fromfile('./Immagini/house.y', dtype=np.uint8)\n",
    "x = np.reshape(x, (512,512))"
   ]
  },
  {
   "cell_type": "code",
   "execution_count": null,
   "id": "4f3bfe4a",
   "metadata": {},
   "outputs": [],
   "source": [
    "#Visualizzare immagine \n",
    "import matplotlib.pyplot as plt\n",
    "plt.figure()\n",
    "plt.imshow(x, clim=[0,255], cmap='gray')"
   ]
  },
  {
   "cell_type": "code",
   "execution_count": null,
   "id": "363faecc",
   "metadata": {},
   "outputs": [],
   "source": [
    "#Visualizzare componenti RGB separate\n",
    "import matplotlib.pyplot as plt\n",
    "r=x[:,:,0]\n",
    "g=x[:,:,1]\n",
    "b=x[:,:,2]\n",
    "plt.figure()\n",
    "plt.subplot(1,3,1)\n",
    "plt.title('Componente Red');plt.imshow(r, cmap='gray', clim=None)\n",
    "plt.subplot(1,3,2)\n",
    "plt.title('Componente Green');plt.imshow(g, cmap='gray', clim=None)\n",
    "plt.subplot(1,3,3)\n",
    "plt.title('Componente Blue');plt.imshow(b, cmap='gray', clim=None)"
   ]
  },
  {
   "cell_type": "code",
   "execution_count": null,
   "id": "2fd756f9",
   "metadata": {},
   "outputs": [],
   "source": [
    "#Ricomporre immagine a partite dalle componenti RGB\n",
    "import numpy as np\n",
    "y = np.stack((r,g,b), -1)"
   ]
  },
  {
   "cell_type": "code",
   "execution_count": null,
   "id": "9a2cb15a",
   "metadata": {},
   "outputs": [],
   "source": [
    "#Visualizzare Istogramma\n",
    "import matplotlib.pyplot as plt\n",
    "plt.figure()\n",
    "plt.hist(x.flatten(), bins=256)"
   ]
  },
  {
   "cell_type": "code",
   "execution_count": null,
   "id": "6869dc83",
   "metadata": {},
   "outputs": [],
   "source": [
    "#Visualizzare bitplane del bit i-esimo (7 MSB - 0 LSB)\n",
    "import sys\n",
    "sys.path.append('./Librerie')  # Add the path to the custom library\n",
    "import numpy as np\n",
    "import bitop as bo \n",
    "x = bo.bitget(np.uint8(x),7)"
   ]
  },
  {
   "cell_type": "code",
   "execution_count": null,
   "id": "742cf858",
   "metadata": {},
   "outputs": [],
   "source": [
    "#Salvare immagine in jpeg\n",
    "import skimage.io as io\n",
    "io.imsave('immagine.jpg', x, quality=70) #fattore di compressione del 30%"
   ]
  },
  {
   "cell_type": "code",
   "execution_count": null,
   "id": "bb1378b5",
   "metadata": {},
   "outputs": [],
   "source": [
    "#Salvare immagine formato .y\n",
    "np.uint8(x).tofile('immagine.y')"
   ]
  },
  {
   "cell_type": "markdown",
   "id": "525aeae1",
   "metadata": {},
   "source": [
    "#Funzioni per generare artefatti"
   ]
  },
  {
   "cell_type": "code",
   "execution_count": null,
   "id": "522c79f4",
   "metadata": {},
   "outputs": [],
   "source": [
    "#Aggiungere WGN ad un'immagine\n",
    "import numpy as np\n",
    "d=25\n",
    "n = d*np.random.randn()\n",
    "noisy = x + n"
   ]
  },
  {
   "cell_type": "markdown",
   "id": "4ad6fc2e",
   "metadata": {},
   "source": [
    "#Funzioni per Enhancement"
   ]
  },
  {
   "cell_type": "code",
   "execution_count": null,
   "id": "4b839a63",
   "metadata": {},
   "outputs": [],
   "source": []
  },
  {
   "cell_type": "code",
   "execution_count": null,
   "id": "d915090e",
   "metadata": {},
   "outputs": [],
   "source": [
    "#Ottenere il Full Scale Histogram Stretch per una data immagine\n",
    "import numpy as np\n",
    "x_max = np.max(x); x_min = np.min(x);\n",
    "x = 255 * (( x - x_min) / ( x_max - x_min))\n"
   ]
  },
  {
   "cell_type": "code",
   "execution_count": null,
   "id": "cd7cf196",
   "metadata": {},
   "outputs": [],
   "source": [
    "#Eliminare difetti isolati\n",
    "import scipy.ndimage as ndi\n",
    "k=10 #dim finestra\n",
    "x = ndi.median_filter(x, (k,k))"
   ]
  },
  {
   "cell_type": "code",
   "execution_count": null,
   "id": "0d919483",
   "metadata": {},
   "outputs": [],
   "source": [
    "#Filtro gaussiano per ottenere effetto blurring\n",
    "import scipy.ndimage as ndi\n",
    "k=3 #varianza\n",
    "x = ndi.gaussian_filter(x, (k,k))"
   ]
  },
  {
   "cell_type": "markdown",
   "id": "5a9c6852",
   "metadata": {},
   "source": [
    "#Funzionalità specifiche Python"
   ]
  },
  {
   "cell_type": "code",
   "execution_count": null,
   "id": "6e780058",
   "metadata": {},
   "outputs": [
    {
     "data": {
      "text/plain": [
       "Text(0, 0.5, 'ascisse')"
      ]
     },
     "execution_count": 70,
     "metadata": {},
     "output_type": "execute_result"
    },
    {
     "data": {
      "image/png": "[encoded data removed]",
      "text/plain": [
       "<Figure size 640x480 with 1 Axes>"
      ]
     },
     "metadata": {},
     "output_type": "display_data"
    }
   ],
   "source": [
    "#Mostrare dati su plot\n",
    "import matplotlib.pyplot as plt\n",
    "plt.figure()\n",
    "plt.plot(['a','b', 'c'],[1,20,3], label='prova plot')\n",
    "#plt.bar(['a','b', 'c'],[1,20,3], label='prova plot')\n",
    "plt.legend()\n",
    "plt.xlabel('ordinate')\n",
    "plt.ylabel('ascisse')\n"
   ]
  },
  {
   "cell_type": "code",
   "execution_count": null,
   "id": "162e4823",
   "metadata": {},
   "outputs": [],
   "source": [
    "#Ciclo for con indice ed iterator\n",
    "for idx,item in enumerate ([3,5,7]):\n",
    "    print(f\"Alla posizione {idx} troviamo valore {item}\")"
   ]
  },
  {
   "cell_type": "code",
   "execution_count": null,
   "id": "d16e4bcc",
   "metadata": {},
   "outputs": [],
   "source": [
    "#Definire una soglia data la percentuale di valori che non devono superarla\n",
    "import numpy as np\n",
    "T = np.percentile(x,70) #restituisce una soglia che limita il 70% degli elementi\n",
    "print(T)"
   ]
  },
  {
   "cell_type": "code",
   "execution_count": null,
   "id": "8853de2a",
   "metadata": {},
   "outputs": [],
   "source": [
    "#Trasformare Maschera 2D in 3D\n",
    "h = np.ones((k,k))\n",
    "H = np.expand_dims(h,-1)\n",
    "print(H)"
   ]
  },
  {
   "cell_type": "markdown",
   "id": "3c8d59a1",
   "metadata": {},
   "source": [
    "#Funzioni per il calcolo di dati"
   ]
  },
  {
   "cell_type": "code",
   "execution_count": null,
   "id": "472eafbb",
   "metadata": {},
   "outputs": [],
   "source": [
    "#Calcolo dell'MSE\n",
    "import numpy as np\n",
    "y= x**2 #elaborazione specifica di x\n",
    "mse = np.mean( (x - y)**2 )\n",
    "print(mse)"
   ]
  }
 ],
 "metadata": {
  "kernelspec": {
   "display_name": "course",
   "language": "python",
   "name": "python3"
  },
  "language_info": {
   "codemirror_mode": {
    "name": "ipython",
    "version": 3
   },
   "file_extension": ".py",
   "mimetype": "text/x-python",
   "name": "python",
   "nbconvert_exporter": "python",
   "pygments_lexer": "ipython3",
   "version": "3.9.16"
  }
 },
 "nbformat": 4,
 "nbformat_minor": 5
}
