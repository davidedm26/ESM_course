{
 "cells": [
  {
   "cell_type": "code",
   "execution_count": 1,
   "id": "fae1214b",
   "metadata": {},
   "outputs": [
    {
     "data": {
      "text/plain": [
       "'\\nCreated on Tue Apr  1 08:43:37 2025\\n\\n@author: david\\n'"
      ]
     },
     "execution_count": 1,
     "metadata": {},
     "output_type": "execute_result"
    }
   ],
   "source": [
    "\"\"\"\n",
    "Created on Tue Apr  1 08:43:37 2025\n",
    "\n",
    "@author: david\n",
    "\"\"\""
   ]
  },
  {
   "cell_type": "code",
   "execution_count": 4,
   "id": "e0b194e0",
   "metadata": {
    "lines_to_next_cell": 1
   },
   "outputs": [],
   "source": [
    "import numpy as np # importa Numpy\n",
    "import matplotlib.pyplot as plt # importa Matplotlib\n",
    "import scipy.ndimage as ndi # importa Scipy per le immagini\n",
    "import skimage.io as io # importa il modulo Input/Output di SK-Image\n",
    "\n",
    "import sys\n",
    "sys.path.append('../Librerie')  # Add the path to the custom library\n",
    "import mylib as ml  # Import the custom library"
   ]
  },
  {
   "cell_type": "markdown",
   "id": "e0a64d88",
   "metadata": {},
   "source": [
    "Filtraggio guidato. Si vuole realizzare un filtraggio in cui si trasferisce la struttura dei bordi da un’immagine\n",
    "(detta guida), g, alla sua mappa di segmentazione binaria, x. A tal scopo scrivete una funzione\n",
    "function y = filtro guidato(x,g,B) "
   ]
  },
  {
   "cell_type": "markdown",
   "id": "bfe648e8",
   "metadata": {},
   "source": [
    "Applicate la funzione alla mappa mask.png e all’immagine guida guida.png usando B = 10 e ϵ = 2−60.\n",
    "Visualizzate la mappa in uscita e quella originale. Mostrate a video anche il prodotto xg e yg e un loro\n",
    "zoom 100 × 100 pixel vicino ad un bordo."
   ]
  },
  {
   "cell_type": "code",
   "execution_count": null,
   "id": "852436e0",
   "metadata": {
    "lines_to_next_cell": 1
   },
   "outputs": [],
   "source": [
    "def filtro_guidato(x,g,B):\n",
    "    #normalizzo maschera e guida in (0,1)\n",
    "    x = np.float64(x)/255; g = np.float64(g)/255\n",
    "    \n",
    "    #calcolo le immagini delle medie locali e delle varianze locali su blocchi BxB\n",
    "    med_x = ndi.generic_filter(x, np.mean, (B,B))\n",
    "    med_g = ndi.generic_filter(g, np.mean, (B,B))\n",
    "    var_x = ndi.generic_filter(x, np.var, (B,B))\n",
    "    var_g = ndi.generic_filter(g, np.var, (B,B))\n",
    "    \n",
    "    #visualizza immagini create\n",
    "    plt.figure()\n",
    "    plt.subplot(2,2,1)\n",
    "    plt.imshow(med_x, clim=None, cmap='gray')\n",
    "    plt.title('MedX')\n",
    "    \n",
    "    plt.subplot(2,2,2)\n",
    "    plt.imshow(med_g, clim=None, cmap='gray')\n",
    "    plt.title('MedG')\n",
    "    \n",
    "    plt.subplot(2,2,3)\n",
    "    plt.imshow(var_x, clim=None, cmap='gray')\n",
    "    plt.title('VarX')\n",
    "    \n",
    "    plt.subplot(2,2,4)\n",
    "    plt.imshow(var_g, clim=None, cmap='gray')\n",
    "    plt.title('VarG')\n",
    "    \n",
    "    #calcolo immagine delle correlazioni locali\n",
    "    corr_gx = ndi.generic_filter(x*g, np.mean, (B,B))\n",
    "    plt.figure();\n",
    "    plt.imshow(corr_gx, cmap='gray')\n",
    "    plt.title('correlazione locale')\n",
    "    \n",
    "    #calcolo uscita filtro come y = μag + μb\n",
    "    eps = 2**(-60)\n",
    "    a = ( corr_gx - med_x*med_g ) / ( var_g + eps )\n",
    "    b =  med_x - a*med_g\n",
    "    mu_a = ndi.generic_filter(a, np.mean, (B,B))\n",
    "    mu_b = ndi.generic_filter(b, np.mean, (B,B))\n",
    "    \n",
    "    y= mu_a*g + mu_b;\n",
    "    \n",
    "    return y;"
   ]
  },
  {
   "cell_type": "markdown",
   "id": "dee2c1ae",
   "metadata": {},
   "source": [
    "MAIN"
   ]
  },
  {
   "cell_type": "code",
   "execution_count": null,
   "id": "cfeede74",
   "metadata": {},
   "outputs": [],
   "source": [
    "# Applicate la funzione alla mappa mask.png e all’immagine guida guida.png usando B = 10 e ϵ = 2−60.\n",
    "# Visualizzate la mappa in uscita e quella originale.\n",
    "plt.figure();\n",
    "x = ml.leggiJpeg(\"../immagini/mask.png\"); g=ml.leggiJpeg(\"../immagini/guida.png\")\n",
    "y = filtro_guidato(x, g, 10)"
   ]
  },
  {
   "cell_type": "code",
   "execution_count": null,
   "id": "dd0f281f",
   "metadata": {},
   "outputs": [],
   "source": [
    "plt.figure();\n",
    "plt.subplot(1,2,1);\n",
    "plt.imshow(g, cmap='gray')\n",
    "plt.title('Guida in input')"
   ]
  },
  {
   "cell_type": "code",
   "execution_count": null,
   "id": "f6b261b9",
   "metadata": {},
   "outputs": [],
   "source": [
    "plt.subplot(1,2,2);\n",
    "plt.imshow(y, cmap='gray')\n",
    "plt.title('Guida in output')"
   ]
  },
  {
   "cell_type": "code",
   "execution_count": null,
   "id": "de4445fa",
   "metadata": {},
   "outputs": [],
   "source": [
    "# Mostrate a video anche il prodotto xg e yg e un loro\n",
    "# zoom 100 × 100 pixel vicino ad un bordo.\n",
    "prod_xg = x*g\n",
    "prod_yg = y*g\n",
    "plt.figure()\n",
    "plt.subplot(1,2,1)\n",
    "plt.imshow(prod_xg, cmap='gray')\n",
    "plt.title('Prodotto X G')"
   ]
  },
  {
   "cell_type": "code",
   "execution_count": null,
   "id": "e4a05882",
   "metadata": {
    "lines_to_next_cell": 2
   },
   "outputs": [],
   "source": [
    "plt.subplot(1,2,2)\n",
    "plt.imshow(prod_yg, cmap='gray')\n",
    "plt.title('Prodotto Y G')\n",
    "plt.tight_layout()"
   ]
  },
  {
   "cell_type": "code",
   "execution_count": null,
   "id": "c7ba631e",
   "metadata": {},
   "outputs": [],
   "source": [
    "plt.figure()\n",
    "plt.subplot(1,2,1)\n",
    "zoom_xg = prod_xg[200:300, 200:300]\n",
    "plt.imshow(zoom_xg, cmap='gray')\n",
    "plt.title('zoom X G')"
   ]
  },
  {
   "cell_type": "code",
   "execution_count": null,
   "id": "d25d00d2",
   "metadata": {},
   "outputs": [],
   "source": [
    "plt.subplot(1,2,2)\n",
    "zoom_yg = prod_yg[200:300, 200:300]\n",
    "plt.imshow(zoom_yg, cmap='gray')\n",
    "plt.title('zoom Y G')"
   ]
  },
  {
   "cell_type": "code",
   "execution_count": null,
   "id": "d3aeb7b9",
   "metadata": {},
   "outputs": [],
   "source": [
    "    "
   ]
  }
 ],
 "metadata": {
  "jupytext": {
   "cell_metadata_filter": "-all",
   "encoding": "# -*- coding: utf-8 -*-",
   "main_language": "python",
   "notebook_metadata_filter": "-all"
  },
  "kernelspec": {
   "display_name": "course",
   "language": "python",
   "name": "python3"
  },
  "language_info": {
   "codemirror_mode": {
    "name": "ipython",
    "version": 3
   },
   "file_extension": ".py",
   "mimetype": "text/x-python",
   "name": "python",
   "nbconvert_exporter": "python",
   "pygments_lexer": "ipython3",
   "version": "3.9.16"
  }
 },
 "nbformat": 4,
 "nbformat_minor": 5
}
